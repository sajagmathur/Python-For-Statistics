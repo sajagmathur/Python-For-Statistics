{
 "cells": [
  {
   "cell_type": "code",
   "execution_count": 1,
   "id": "2f6a2d46-5712-4c55-9519-1e22759534bd",
   "metadata": {},
   "outputs": [],
   "source": [
    "#helps import a library for handling numbers or data\n",
    "import numpy as np\n",
    "\n",
    "#performs tabular analysis on those numbers\n",
    "import pandas as pd\n",
    "\n",
    "#perform statistical analysiss\n",
    "import scipy.stats as stats\n",
    "\n",
    "#for visualization\n",
    "import matplotlib.pyplot as plt\n",
    "import seaborn as sb\n",
    "\n",
    "#for statistical analysis\n",
    "import statsmodels.api as sm"
   ]
  },
  {
   "cell_type": "code",
   "execution_count": 2,
   "id": "135829d5-8dc9-4d6d-8dee-e7992243541a",
   "metadata": {},
   "outputs": [
    {
     "name": "stdout",
     "output_type": "stream",
     "text": [
      "T Test\n",
      "T-Statistic: -3.9046188415136327\n",
      "P-Value: 0.0015872604280033646\n",
      "Conclusion: Difference is significant\n",
      "ANOVA\n",
      "F-Statistic: 15.534504817681821, P-Value: 7.231356331295832e-05\n",
      "Conclusion: Difference is significant\n"
     ]
    }
   ],
   "source": [
    "# Hanson on T Test and Anova Test\n",
    "Age = [10,15,20,25,30,35,40,45]\n",
    "Income = [0,100,1000,1500,2000,2200,2000,3000]\n",
    "#Add another group for anova\n",
    "Spending_Score = [0.1,0.2,0.7,0.8,0.9,0.7,0.8,0.7]\n",
    "#T Test\n",
    "t_stat,p_value = t_stat, p_value = stats.ttest_ind(Age, Income)\n",
    "print(\"T Test\")\n",
    "print(\"T-Statistic:\", t_stat)\n",
    "print(\"P-Value:\", p_value)\n",
    "print(\"Conclusion: Difference is significant\")\n",
    "print(\"ANOVA\")\n",
    "f_stat, p_value = stats.f_oneway(Age, Income, Spending_Score)\n",
    "print(f\"F-Statistic: {f_stat}, P-Value: {p_value}\")\n",
    "print(\"Conclusion: Difference is significant\")"
   ]
  },
  {
   "cell_type": "code",
   "execution_count": 3,
   "id": "816a5b51-328a-40bd-83b2-bb5c94a93412",
   "metadata": {},
   "outputs": [
    {
     "name": "stdout",
     "output_type": "stream",
     "text": [
      "   Age  Income  Spending Score\n",
      "0   10       0             0.1\n",
      "1   15     100             0.2\n",
      "2   20    1000             0.7\n",
      "3   25    1500             0.8\n",
      "4   30    2000             0.9\n",
      "5   35    2200             0.7\n",
      "6   40    2000             0.8\n",
      "7   45    3000             0.7\n",
      "                     Age    Income  Spending Score\n",
      "Age             1.000000  0.962315        0.721853\n",
      "Income          0.962315  1.000000        0.800478\n",
      "Spending Score  0.721853  0.800478        1.000000\n"
     ]
    },
    {
     "data": {
      "image/png": "[encoded data removed]",
      "text/plain": [
       "<Figure size 640x480 with 2 Axes>"
      ]
     },
     "metadata": {},
     "output_type": "display_data"
    }
   ],
   "source": [
    "#Correlation\n",
    "data = {\n",
    "    \"Age\": Age,\n",
    "    \"Income\": Income,\n",
    "    \"Spending Score\": Spending_Score\n",
    "}\n",
    "df = pd.DataFrame(data)\n",
    "print(df)\n",
    "\n",
    "correlation = df.corr()\n",
    "print(correlation)\n",
    "\n",
    "#build a heatmap for the same\n",
    "sb.heatmap(correlation,annot=True, cmap=\"coolwarm\")\n",
    "plt.title(\"Correlation\")\n",
    "plt.show()"
   ]
  },
  {
   "cell_type": "code",
   "execution_count": 4,
   "id": "6c08537b-9f36-46a9-a2e5-b2ca74a655d0",
   "metadata": {
    "scrolled": true
   },
   "outputs": [
    {
     "name": "stdout",
     "output_type": "stream",
     "text": [
      "                            OLS Regression Results                            \n",
      "==============================================================================\n",
      "Dep. Variable:         Spending Score   R-squared:                       0.521\n",
      "Model:                            OLS   Adj. R-squared:                  0.441\n",
      "Method:                 Least Squares   F-statistic:                     6.528\n",
      "Date:                Tue, 25 Mar 2025   Prob (F-statistic):             0.0432\n",
      "Time:                        12:39:33   Log-Likelihood:                 1.8965\n",
      "No. Observations:                   8   AIC:                            0.2071\n",
      "Df Residuals:                       6   BIC:                            0.3660\n",
      "Df Model:                           1                                         \n",
      "Covariance Type:            nonrobust                                         \n",
      "==============================================================================\n",
      "                 coef    std err          t      P>|t|      [0.025      0.975]\n",
      "------------------------------------------------------------------------------\n",
      "const          0.1345      0.203      0.664      0.531      -0.361       0.630\n",
      "Age            0.0174      0.007      2.555      0.043       0.001       0.034\n",
      "==============================================================================\n",
      "Omnibus:                        3.509   Durbin-Watson:                   0.990\n",
      "Prob(Omnibus):                  0.173   Jarque-Bera (JB):                0.970\n",
      "Skew:                           0.187   Prob(JB):                        0.616\n",
      "Kurtosis:                       1.335   Cond. No.                         77.5\n",
      "==============================================================================\n",
      "\n",
      "Notes:\n",
      "[1] Standard Errors assume that the covariance matrix of the errors is correctly specified.\n"
     ]
    },
    {
     "name": "stderr",
     "output_type": "stream",
     "text": [
      "C:\\Users\\sajag177350\\AppData\\Local\\anaconda3\\Lib\\site-packages\\scipy\\stats\\_axis_nan_policy.py:531: UserWarning: kurtosistest only valid for n>=20 ... continuing anyway, n=8\n",
      "  res = hypotest_fun_out(*samples, **kwds)\n"
     ]
    }
   ],
   "source": [
    "#Ordinary Least squares - squares of errors are kept at minimum\n",
    "\n",
    "X = df[\"Age\"]\n",
    "y = df[\"Spending Score\"]\n",
    "\n",
    "X = sm.add_constant(X)  # Adding intercept\n",
    "model = sm.OLS(y, X).fit()\n",
    "print(model.summary())\n"
   ]
  }
 ],
 "metadata": {
  "kernelspec": {
   "display_name": "Python 3 (ipykernel)",
   "language": "python",
   "name": "python3"
  },
  "language_info": {
   "codemirror_mode": {
    "name": "ipython",
    "version": 3
   },
   "file_extension": ".py",
   "mimetype": "text/x-python",
   "name": "python",
   "nbconvert_exporter": "python",
   "pygments_lexer": "ipython3",
   "version": "3.12.7"
  }
 },
 "nbformat": 4,
 "nbformat_minor": 5
}
